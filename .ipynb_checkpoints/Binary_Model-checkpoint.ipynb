{
 "cells": [
  {
   "cell_type": "code",
   "execution_count": 1,
   "metadata": {
    "id": "zaGDyUGMKplZ"
   },
   "outputs": [],
   "source": [
    "import pandas as pd\n",
    "import numpy as np\n",
    "\n",
    "import pathlib\n",
    "import matplotlib.pyplot as plt\n",
    "\n",
    "from glob import glob\n",
    "import os\n",
    "\n",
    "from tensorflow.keras import layers\n",
    "from tensorflow.keras.models import Sequential\n",
    "from tensorflow.keras.preprocessing.image import ImageDataGenerator\n",
    "\n",
    "from tensorflow.keras.callbacks import EarlyStopping\n",
    "from tensorflow.keras.layers import Dense, Conv2D, MaxPool2D, Flatten, Dropout, Activation\n",
    "from tensorflow.keras import regularizers\n",
    "\n",
    "from tensorflow.keras.applications import mobilenet_v2\n",
    "from tensorflow.keras.models import Model\n",
    "from tensorflow.keras.callbacks import ReduceLROnPlateau\n",
    "\n",
    "from tensorflow.keras.applications import VGG16\n",
    "from tensorflow.keras.layers import InputLayer"
   ]
  },
  {
   "cell_type": "code",
   "execution_count": 1,
   "metadata": {
    "id": "5UAv0Pg_Kpuj"
   },
   "outputs": [
    {
     "name": "stdout",
     "output_type": "stream",
     "text": [
      "Found 4119 images.\n"
     ]
    }
   ],
   "source": [
    "import tensorflow as tf\n",
    "\n",
    "data_dir = \"gs://emotional_model/WikiArtImages/WikiArtImages/\"\n",
    "file_pattern = data_dir + \"*.png\"  # Update file extension as necessary\n",
    "\n",
    "image_count = len(tf.io.gfile.glob(file_pattern))\n",
    "print(f\"Found {image_count} images.\")"
   ]
  },
  {
   "cell_type": "code",
   "execution_count": 11,
   "metadata": {
    "colab": {
     "base_uri": "https://localhost:8080/"
    },
    "id": "w7-DWfQgLyme",
    "outputId": "30f1e899-1449-4f64-9686-bcfa37853e42"
   },
   "outputs": [
    {
     "ename": "AttributeError",
     "evalue": "'str' object has no attribute 'glob'",
     "output_type": "error",
     "traceback": [
      "\u001b[0;31m---------------------------------------------------------------------------\u001b[0m",
      "\u001b[0;31mAttributeError\u001b[0m                            Traceback (most recent call last)",
      "\u001b[0;32m<ipython-input-11-67781e1d2618>\u001b[0m in \u001b[0;36m<module>\u001b[0;34m\u001b[0m\n\u001b[0;32m----> 1\u001b[0;31m \u001b[0mimage_count\u001b[0m \u001b[0;34m=\u001b[0m \u001b[0mlen\u001b[0m\u001b[0;34m(\u001b[0m\u001b[0mlist\u001b[0m\u001b[0;34m(\u001b[0m\u001b[0mdata_dir\u001b[0m\u001b[0;34m.\u001b[0m\u001b[0mglob\u001b[0m\u001b[0;34m(\u001b[0m\u001b[0;34m'**/*.png'\u001b[0m\u001b[0;34m)\u001b[0m\u001b[0;34m)\u001b[0m\u001b[0;34m)\u001b[0m\u001b[0;34m\u001b[0m\u001b[0;34m\u001b[0m\u001b[0m\n\u001b[0m\u001b[1;32m      2\u001b[0m \u001b[0mprint\u001b[0m\u001b[0;34m(\u001b[0m\u001b[0mimage_count\u001b[0m\u001b[0;34m)\u001b[0m\u001b[0;34m\u001b[0m\u001b[0;34m\u001b[0m\u001b[0m\n",
      "\u001b[0;31mAttributeError\u001b[0m: 'str' object has no attribute 'glob'"
     ]
    }
   ],
   "source": [
    "# image_count = len(list(data_dir.glob('**/*.png')))\n",
    "# print(image_count)"
   ]
  },
  {
   "cell_type": "code",
   "execution_count": 3,
   "metadata": {
    "id": "P-RtK3ynL4j1"
   },
   "outputs": [],
   "source": [
    "df = pd.read_csv(\"gs://emotional_model/6893Data/path_prob.csv\")"
   ]
  },
  {
   "cell_type": "code",
   "execution_count": 9,
   "metadata": {},
   "outputs": [
    {
     "name": "stdout",
     "output_type": "stream",
     "text": [
      "Requirement already satisfied: fsspec in /home/ecbm4040/envTF24/lib/python3.6/site-packages (2022.1.0)\n",
      "Collecting gcsfs\n",
      "  Downloading gcsfs-2022.1.0-py2.py3-none-any.whl (24 kB)\n",
      "Requirement already satisfied: google-auth>=1.2 in /home/ecbm4040/envTF24/lib/python3.6/site-packages (from gcsfs) (1.35.0)\n",
      "Collecting aiohttp<4\n",
      "  Downloading aiohttp-3.8.6-cp36-cp36m-manylinux_2_17_x86_64.manylinux2014_x86_64.whl (985 kB)\n",
      "     |████████████████████████████████| 985 kB 36.8 MB/s            \n",
      "\u001b[?25hRequirement already satisfied: requests in /home/ecbm4040/envTF24/lib/python3.6/site-packages (from gcsfs) (2.26.0)\n",
      "Requirement already satisfied: fsspec==2022.01.0 in /home/ecbm4040/envTF24/lib/python3.6/site-packages (from gcsfs) (2022.1.0)\n",
      "Requirement already satisfied: google-auth-oauthlib in /home/ecbm4040/envTF24/lib/python3.6/site-packages (from gcsfs) (0.4.6)\n",
      "Requirement already satisfied: decorator>4.1.2 in /home/ecbm4040/envTF24/lib/python3.6/site-packages (from gcsfs) (5.0.9)\n",
      "Collecting google-cloud-storage\n",
      "  Downloading google_cloud_storage-2.0.0-py2.py3-none-any.whl (106 kB)\n",
      "     |████████████████████████████████| 106 kB 82.3 MB/s            \n",
      "\u001b[?25hCollecting frozenlist>=1.1.1\n",
      "  Downloading frozenlist-1.2.0-cp36-cp36m-manylinux_2_5_x86_64.manylinux1_x86_64.manylinux_2_12_x86_64.manylinux2010_x86_64.whl (191 kB)\n",
      "     |████████████████████████████████| 191 kB 62.8 MB/s            \n",
      "\u001b[?25hCollecting aiosignal>=1.1.2\n",
      "  Downloading aiosignal-1.2.0-py3-none-any.whl (8.2 kB)\n",
      "Collecting multidict<7.0,>=4.5\n",
      "  Downloading multidict-5.2.0-cp36-cp36m-manylinux_2_5_x86_64.manylinux1_x86_64.manylinux_2_12_x86_64.manylinux2010_x86_64.whl (159 kB)\n",
      "     |████████████████████████████████| 159 kB 79.9 MB/s            \n",
      "\u001b[?25hRequirement already satisfied: attrs>=17.3.0 in /home/ecbm4040/envTF24/lib/python3.6/site-packages (from aiohttp<4->gcsfs) (21.2.0)\n",
      "Collecting asynctest==0.13.0\n",
      "  Downloading asynctest-0.13.0-py3-none-any.whl (26 kB)\n",
      "Collecting idna-ssl>=1.0\n",
      "  Downloading idna-ssl-1.1.0.tar.gz (3.4 kB)\n",
      "  Preparing metadata (setup.py) ... \u001b[?25ldone\n",
      "\u001b[?25hRequirement already satisfied: charset-normalizer<4.0,>=2.0 in /home/ecbm4040/envTF24/lib/python3.6/site-packages (from aiohttp<4->gcsfs) (2.0.4)\n",
      "Collecting yarl<2.0,>=1.0\n",
      "  Downloading yarl-1.7.2-cp36-cp36m-manylinux_2_5_x86_64.manylinux1_x86_64.manylinux_2_12_x86_64.manylinux2010_x86_64.whl (270 kB)\n",
      "     |████████████████████████████████| 270 kB 60.6 MB/s            \n",
      "\u001b[?25hRequirement already satisfied: typing-extensions>=3.7.4 in /home/ecbm4040/envTF24/lib/python3.6/site-packages (from aiohttp<4->gcsfs) (3.7.4.3)\n",
      "Collecting async-timeout<5.0,>=4.0.0a3\n",
      "  Downloading async_timeout-4.0.2-py3-none-any.whl (5.8 kB)\n",
      "Requirement already satisfied: setuptools>=40.3.0 in /home/ecbm4040/envTF24/lib/python3.6/site-packages (from google-auth>=1.2->gcsfs) (58.0.2)\n",
      "Requirement already satisfied: rsa<5,>=3.1.4 in /home/ecbm4040/envTF24/lib/python3.6/site-packages (from google-auth>=1.2->gcsfs) (4.7.2)\n",
      "Requirement already satisfied: cachetools<5.0,>=2.0.0 in /home/ecbm4040/envTF24/lib/python3.6/site-packages (from google-auth>=1.2->gcsfs) (4.2.2)\n",
      "Requirement already satisfied: pyasn1-modules>=0.2.1 in /home/ecbm4040/envTF24/lib/python3.6/site-packages (from google-auth>=1.2->gcsfs) (0.2.8)\n",
      "Requirement already satisfied: six>=1.9.0 in /home/ecbm4040/envTF24/lib/python3.6/site-packages (from google-auth>=1.2->gcsfs) (1.15.0)\n",
      "Requirement already satisfied: requests-oauthlib>=0.7.0 in /home/ecbm4040/envTF24/lib/python3.6/site-packages (from google-auth-oauthlib->gcsfs) (1.3.0)\n",
      "Requirement already satisfied: protobuf in /home/ecbm4040/envTF24/lib/python3.6/site-packages (from google-cloud-storage->gcsfs) (3.17.3)\n",
      "Collecting google-resumable-media>=1.3.0\n",
      "  Downloading google_resumable_media-2.3.3-py2.py3-none-any.whl (76 kB)\n",
      "     |████████████████████████████████| 76 kB 11.8 MB/s            \n",
      "\u001b[?25hCollecting google-cloud-core<3.0dev,>=1.6.0\n",
      "  Downloading google_cloud_core-2.3.1-py2.py3-none-any.whl (29 kB)\n",
      "Collecting google-api-core<3.0dev,>=1.29.0\n",
      "  Downloading google_api_core-2.8.2-py3-none-any.whl (114 kB)\n",
      "     |████████████████████████████████| 114 kB 98.1 MB/s            \n",
      "\u001b[?25hRequirement already satisfied: certifi>=2017.4.17 in /home/ecbm4040/envTF24/lib/python3.6/site-packages (from requests->gcsfs) (2021.5.30)\n",
      "Requirement already satisfied: idna<4,>=2.5 in /home/ecbm4040/envTF24/lib/python3.6/site-packages (from requests->gcsfs) (3.2)\n",
      "Requirement already satisfied: urllib3<1.27,>=1.21.1 in /home/ecbm4040/envTF24/lib/python3.6/site-packages (from requests->gcsfs) (1.26.6)\n",
      "Collecting googleapis-common-protos<2.0dev,>=1.56.2\n",
      "  Downloading googleapis_common_protos-1.56.3-py2.py3-none-any.whl (211 kB)\n",
      "     |████████████████████████████████| 211 kB 109.6 MB/s            \n",
      "\u001b[?25hCollecting google-crc32c<2.0dev,>=1.0\n",
      "  Downloading google_crc32c-1.3.0-cp36-cp36m-manylinux_2_12_x86_64.manylinux2010_x86_64.whl (37 kB)\n",
      "Requirement already satisfied: pyasn1<0.5.0,>=0.4.6 in /home/ecbm4040/envTF24/lib/python3.6/site-packages (from pyasn1-modules>=0.2.1->google-auth>=1.2->gcsfs) (0.4.8)\n",
      "Requirement already satisfied: oauthlib>=3.0.0 in /home/ecbm4040/envTF24/lib/python3.6/site-packages (from requests-oauthlib>=0.7.0->google-auth-oauthlib->gcsfs) (3.1.1)\n",
      "Building wheels for collected packages: idna-ssl\n",
      "  Building wheel for idna-ssl (setup.py) ... \u001b[?25ldone\n",
      "\u001b[?25h  Created wheel for idna-ssl: filename=idna_ssl-1.1.0-py3-none-any.whl size=3178 sha256=b6ca762923ca3c5f6548d9a3947a855a580fb2b6884cfaa376543b86ec08f877\n",
      "  Stored in directory: /home/ecbm4040/.cache/pip/wheels/6a/f5/9c/f8331a854f7a8739cf0e74c13854e4dd7b1af11b04fe1dde13\n",
      "Successfully built idna-ssl\n",
      "Installing collected packages: googleapis-common-protos, multidict, google-crc32c, google-api-core, frozenlist, yarl, idna-ssl, google-resumable-media, google-cloud-core, asynctest, async-timeout, aiosignal, google-cloud-storage, aiohttp, gcsfs\n",
      "Successfully installed aiohttp-3.8.6 aiosignal-1.2.0 async-timeout-4.0.2 asynctest-0.13.0 frozenlist-1.2.0 gcsfs-2022.1.0 google-api-core-2.8.2 google-cloud-core-2.3.1 google-cloud-storage-2.0.0 google-crc32c-1.3.0 google-resumable-media-2.3.3 googleapis-common-protos-1.56.3 idna-ssl-1.1.0 multidict-5.2.0 yarl-1.7.2\n"
     ]
    }
   ],
   "source": [
    "!pip install fsspec\n",
    "!pip install gcsfs"
   ]
  },
  {
   "cell_type": "code",
   "execution_count": 4,
   "metadata": {
    "colab": {
     "base_uri": "https://localhost:8080/",
     "height": 711
    },
    "id": "YxejYHntL79d",
    "outputId": "51ed8bd0-c42e-4633-e997-56471c820881"
   },
   "outputs": [
    {
     "data": {
      "text/plain": [
       "happiness           1102\n",
       "surprise             822\n",
       "anticipation         520\n",
       "trust                478\n",
       "fear                 358\n",
       "sadness              226\n",
       "humility             184\n",
       "love                 114\n",
       "disgust              101\n",
       "optimism              62\n",
       "arrogance             52\n",
       "anger                 36\n",
       "gratitude             14\n",
       "pessimism             10\n",
       "disagreeableness       7\n",
       "shame                  7\n",
       "neutral                5\n",
       "agreeableness          5\n",
       "shyness                2\n",
       "Name: emotion, dtype: int64"
      ]
     },
     "execution_count": 4,
     "metadata": {},
     "output_type": "execute_result"
    }
   ],
   "source": [
    "df.emotion.value_counts()"
   ]
  },
  {
   "cell_type": "code",
   "execution_count": 5,
   "metadata": {
    "id": "1L7VIcbML-6O"
   },
   "outputs": [],
   "source": [
    "positive_emotions = ['gratitude', 'happiness', 'humility', 'love', 'optimism', 'trust']\n",
    "negative_emotions = ['anger', 'arrogance', 'disgust', 'fear', 'pessimism', 'regret', 'sadness', 'shame']\n"
   ]
  },
  {
   "cell_type": "code",
   "execution_count": 6,
   "metadata": {
    "colab": {
     "base_uri": "https://localhost:8080/",
     "height": 206
    },
    "id": "oZO_JSuAMC3z",
    "outputId": "b4188faa-13b3-42ea-8df3-88c7448d77f3"
   },
   "outputs": [
    {
     "data": {
      "text/html": [
       "<div>\n",
       "<style scoped>\n",
       "    .dataframe tbody tr th:only-of-type {\n",
       "        vertical-align: middle;\n",
       "    }\n",
       "\n",
       "    .dataframe tbody tr th {\n",
       "        vertical-align: top;\n",
       "    }\n",
       "\n",
       "    .dataframe thead th {\n",
       "        text-align: right;\n",
       "    }\n",
       "</style>\n",
       "<table border=\"1\" class=\"dataframe\">\n",
       "  <thead>\n",
       "    <tr style=\"text-align: right;\">\n",
       "      <th></th>\n",
       "      <th>Unnamed: 0</th>\n",
       "      <th>ID</th>\n",
       "      <th>emotion</th>\n",
       "      <th>path</th>\n",
       "    </tr>\n",
       "  </thead>\n",
       "  <tbody>\n",
       "    <tr>\n",
       "      <th>0</th>\n",
       "      <td>0</td>\n",
       "      <td>58c6237dedc2c9c7dc0de1ae</td>\n",
       "      <td>positive</td>\n",
       "      <td>/content/drive/My Drive/WikiArtImages/58c6237d...</td>\n",
       "    </tr>\n",
       "    <tr>\n",
       "      <th>1</th>\n",
       "      <td>1</td>\n",
       "      <td>577280dfedc2cb3880f28e76</td>\n",
       "      <td>anticipation</td>\n",
       "      <td>/content/drive/My Drive/WikiArtImages/577280df...</td>\n",
       "    </tr>\n",
       "    <tr>\n",
       "      <th>2</th>\n",
       "      <td>2</td>\n",
       "      <td>57727f2dedc2cb3880ed5fa9</td>\n",
       "      <td>positive</td>\n",
       "      <td>/content/drive/My Drive/WikiArtImages/57727f2d...</td>\n",
       "    </tr>\n",
       "    <tr>\n",
       "      <th>3</th>\n",
       "      <td>3</td>\n",
       "      <td>58d1240cedc2c94f900fc610</td>\n",
       "      <td>negative</td>\n",
       "      <td>/content/drive/My Drive/WikiArtImages/58d1240c...</td>\n",
       "    </tr>\n",
       "    <tr>\n",
       "      <th>4</th>\n",
       "      <td>4</td>\n",
       "      <td>57727de7edc2cb3880e91f26</td>\n",
       "      <td>positive</td>\n",
       "      <td>/content/drive/My Drive/WikiArtImages/57727de7...</td>\n",
       "    </tr>\n",
       "  </tbody>\n",
       "</table>\n",
       "</div>"
      ],
      "text/plain": [
       "   Unnamed: 0                        ID       emotion  \\\n",
       "0           0  58c6237dedc2c9c7dc0de1ae      positive   \n",
       "1           1  577280dfedc2cb3880f28e76  anticipation   \n",
       "2           2  57727f2dedc2cb3880ed5fa9      positive   \n",
       "3           3  58d1240cedc2c94f900fc610      negative   \n",
       "4           4  57727de7edc2cb3880e91f26      positive   \n",
       "\n",
       "                                                path  \n",
       "0  /content/drive/My Drive/WikiArtImages/58c6237d...  \n",
       "1  /content/drive/My Drive/WikiArtImages/577280df...  \n",
       "2  /content/drive/My Drive/WikiArtImages/57727f2d...  \n",
       "3  /content/drive/My Drive/WikiArtImages/58d1240c...  \n",
       "4  /content/drive/My Drive/WikiArtImages/57727de7...  "
      ]
     },
     "execution_count": 6,
     "metadata": {},
     "output_type": "execute_result"
    }
   ],
   "source": [
    "df[\"emotion\"] = df.emotion.apply(lambda x: \"positive\" if (x in positive_emotions) \\\n",
    "                                 else (\"negative\" if x in negative_emotions else x))\n",
    "df.head(5)"
   ]
  },
  {
   "cell_type": "code",
   "execution_count": 7,
   "metadata": {
    "colab": {
     "base_uri": "https://localhost:8080/",
     "height": 366
    },
    "id": "AOo1K6VBMGb-",
    "outputId": "3b2d7875-d3be-492a-b52c-29c008872ab2"
   },
   "outputs": [
    {
     "data": {
      "text/plain": [
       "positive            1954\n",
       "surprise             822\n",
       "negative             790\n",
       "anticipation         520\n",
       "disagreeableness       7\n",
       "agreeableness          5\n",
       "neutral                5\n",
       "shyness                2\n",
       "Name: emotion, dtype: int64"
      ]
     },
     "execution_count": 7,
     "metadata": {},
     "output_type": "execute_result"
    }
   ],
   "source": [
    "df.emotion.value_counts()"
   ]
  },
  {
   "cell_type": "code",
   "execution_count": 8,
   "metadata": {
    "colab": {
     "base_uri": "https://localhost:8080/",
     "height": 424
    },
    "id": "7c9P-_WPMIwQ",
    "outputId": "ec8ab6a7-37c7-4112-ae02-21f6bb54e432"
   },
   "outputs": [
    {
     "data": {
      "text/html": [
       "<div>\n",
       "<style scoped>\n",
       "    .dataframe tbody tr th:only-of-type {\n",
       "        vertical-align: middle;\n",
       "    }\n",
       "\n",
       "    .dataframe tbody tr th {\n",
       "        vertical-align: top;\n",
       "    }\n",
       "\n",
       "    .dataframe thead th {\n",
       "        text-align: right;\n",
       "    }\n",
       "</style>\n",
       "<table border=\"1\" class=\"dataframe\">\n",
       "  <thead>\n",
       "    <tr style=\"text-align: right;\">\n",
       "      <th></th>\n",
       "      <th>Unnamed: 0</th>\n",
       "      <th>ID</th>\n",
       "      <th>emotion</th>\n",
       "      <th>path</th>\n",
       "    </tr>\n",
       "  </thead>\n",
       "  <tbody>\n",
       "    <tr>\n",
       "      <th>0</th>\n",
       "      <td>0</td>\n",
       "      <td>58c6237dedc2c9c7dc0de1ae</td>\n",
       "      <td>positive</td>\n",
       "      <td>/content/drive/My Drive/WikiArtImages/58c6237d...</td>\n",
       "    </tr>\n",
       "    <tr>\n",
       "      <th>2</th>\n",
       "      <td>2</td>\n",
       "      <td>57727f2dedc2cb3880ed5fa9</td>\n",
       "      <td>positive</td>\n",
       "      <td>/content/drive/My Drive/WikiArtImages/57727f2d...</td>\n",
       "    </tr>\n",
       "    <tr>\n",
       "      <th>3</th>\n",
       "      <td>3</td>\n",
       "      <td>58d1240cedc2c94f900fc610</td>\n",
       "      <td>negative</td>\n",
       "      <td>/content/drive/My Drive/WikiArtImages/58d1240c...</td>\n",
       "    </tr>\n",
       "    <tr>\n",
       "      <th>4</th>\n",
       "      <td>4</td>\n",
       "      <td>57727de7edc2cb3880e91f26</td>\n",
       "      <td>positive</td>\n",
       "      <td>/content/drive/My Drive/WikiArtImages/57727de7...</td>\n",
       "    </tr>\n",
       "    <tr>\n",
       "      <th>5</th>\n",
       "      <td>5</td>\n",
       "      <td>57728297edc2cb3880f81f5b</td>\n",
       "      <td>positive</td>\n",
       "      <td>/content/drive/My Drive/WikiArtImages/57728297...</td>\n",
       "    </tr>\n",
       "    <tr>\n",
       "      <th>...</th>\n",
       "      <td>...</td>\n",
       "      <td>...</td>\n",
       "      <td>...</td>\n",
       "      <td>...</td>\n",
       "    </tr>\n",
       "    <tr>\n",
       "      <th>4098</th>\n",
       "      <td>4098</td>\n",
       "      <td>577281c3edc2cb3880f59182</td>\n",
       "      <td>positive</td>\n",
       "      <td>/content/drive/My Drive/WikiArtImages/577281c3...</td>\n",
       "    </tr>\n",
       "    <tr>\n",
       "      <th>4099</th>\n",
       "      <td>4099</td>\n",
       "      <td>577280fcedc2cb3880f30eb1</td>\n",
       "      <td>negative</td>\n",
       "      <td>/content/drive/My Drive/WikiArtImages/577280fc...</td>\n",
       "    </tr>\n",
       "    <tr>\n",
       "      <th>4101</th>\n",
       "      <td>4101</td>\n",
       "      <td>57728001edc2cb3880efddcf</td>\n",
       "      <td>negative</td>\n",
       "      <td>/content/drive/My Drive/WikiArtImages/57728001...</td>\n",
       "    </tr>\n",
       "    <tr>\n",
       "      <th>4103</th>\n",
       "      <td>4103</td>\n",
       "      <td>57728412edc2cb3880fc9ff4</td>\n",
       "      <td>positive</td>\n",
       "      <td>/content/drive/My Drive/WikiArtImages/57728412...</td>\n",
       "    </tr>\n",
       "    <tr>\n",
       "      <th>4104</th>\n",
       "      <td>4104</td>\n",
       "      <td>57728126edc2cb3880f3a31d</td>\n",
       "      <td>positive</td>\n",
       "      <td>/content/drive/My Drive/WikiArtImages/57728126...</td>\n",
       "    </tr>\n",
       "  </tbody>\n",
       "</table>\n",
       "<p>2744 rows × 4 columns</p>\n",
       "</div>"
      ],
      "text/plain": [
       "      Unnamed: 0                        ID   emotion  \\\n",
       "0              0  58c6237dedc2c9c7dc0de1ae  positive   \n",
       "2              2  57727f2dedc2cb3880ed5fa9  positive   \n",
       "3              3  58d1240cedc2c94f900fc610  negative   \n",
       "4              4  57727de7edc2cb3880e91f26  positive   \n",
       "5              5  57728297edc2cb3880f81f5b  positive   \n",
       "...          ...                       ...       ...   \n",
       "4098        4098  577281c3edc2cb3880f59182  positive   \n",
       "4099        4099  577280fcedc2cb3880f30eb1  negative   \n",
       "4101        4101  57728001edc2cb3880efddcf  negative   \n",
       "4103        4103  57728412edc2cb3880fc9ff4  positive   \n",
       "4104        4104  57728126edc2cb3880f3a31d  positive   \n",
       "\n",
       "                                                   path  \n",
       "0     /content/drive/My Drive/WikiArtImages/58c6237d...  \n",
       "2     /content/drive/My Drive/WikiArtImages/57727f2d...  \n",
       "3     /content/drive/My Drive/WikiArtImages/58d1240c...  \n",
       "4     /content/drive/My Drive/WikiArtImages/57727de7...  \n",
       "5     /content/drive/My Drive/WikiArtImages/57728297...  \n",
       "...                                                 ...  \n",
       "4098  /content/drive/My Drive/WikiArtImages/577281c3...  \n",
       "4099  /content/drive/My Drive/WikiArtImages/577280fc...  \n",
       "4101  /content/drive/My Drive/WikiArtImages/57728001...  \n",
       "4103  /content/drive/My Drive/WikiArtImages/57728412...  \n",
       "4104  /content/drive/My Drive/WikiArtImages/57728126...  \n",
       "\n",
       "[2744 rows x 4 columns]"
      ]
     },
     "execution_count": 8,
     "metadata": {},
     "output_type": "execute_result"
    }
   ],
   "source": [
    "pos_neg_df = df[(df.emotion == \"positive\") | (df.emotion == \"negative\")]\n",
    "pos_neg_df"
   ]
  },
  {
   "cell_type": "code",
   "execution_count": 9,
   "metadata": {},
   "outputs": [
    {
     "name": "stdout",
     "output_type": "stream",
     "text": [
      "   Unnamed: 0                        ID   emotion  \\\n",
      "0           0  58c6237dedc2c9c7dc0de1ae  positive   \n",
      "2           2  57727f2dedc2cb3880ed5fa9  positive   \n",
      "3           3  58d1240cedc2c94f900fc610  negative   \n",
      "4           4  57727de7edc2cb3880e91f26  positive   \n",
      "5           5  57728297edc2cb3880f81f5b  positive   \n",
      "\n",
      "                                                path  \n",
      "0  gs://emotional_model/WikiArtImages/WikiArtImag...  \n",
      "2  gs://emotional_model/WikiArtImages/WikiArtImag...  \n",
      "3  gs://emotional_model/WikiArtImages/WikiArtImag...  \n",
      "4  gs://emotional_model/WikiArtImages/WikiArtImag...  \n",
      "5  gs://emotional_model/WikiArtImages/WikiArtImag...  \n"
     ]
    },
    {
     "name": "stderr",
     "output_type": "stream",
     "text": [
      "/home/ecbm4040/envTF24/lib/python3.6/site-packages/ipykernel_launcher.py:4: SettingWithCopyWarning: \n",
      "A value is trying to be set on a copy of a slice from a DataFrame.\n",
      "Try using .loc[row_indexer,col_indexer] = value instead\n",
      "\n",
      "See the caveats in the documentation: https://pandas.pydata.org/pandas-docs/stable/user_guide/indexing.html#returning-a-view-versus-a-copy\n",
      "  after removing the cwd from sys.path.\n"
     ]
    }
   ],
   "source": [
    "pos_neg_df['path'] = pos_neg_df['path'].str.replace(\n",
    "    '/content/drive/My Drive', \n",
    "    'gs://emotional_model/WikiArtImages', \n",
    "    regex=False\n",
    ")\n",
    "\n",
    "# Verify the changes\n",
    "print(pos_neg_df.head())"
   ]
  },
  {
   "cell_type": "code",
   "execution_count": 10,
   "metadata": {},
   "outputs": [
    {
     "data": {
      "text/html": [
       "<div>\n",
       "<style scoped>\n",
       "    .dataframe tbody tr th:only-of-type {\n",
       "        vertical-align: middle;\n",
       "    }\n",
       "\n",
       "    .dataframe tbody tr th {\n",
       "        vertical-align: top;\n",
       "    }\n",
       "\n",
       "    .dataframe thead th {\n",
       "        text-align: right;\n",
       "    }\n",
       "</style>\n",
       "<table border=\"1\" class=\"dataframe\">\n",
       "  <thead>\n",
       "    <tr style=\"text-align: right;\">\n",
       "      <th></th>\n",
       "      <th>Unnamed: 0</th>\n",
       "      <th>ID</th>\n",
       "      <th>emotion</th>\n",
       "      <th>path</th>\n",
       "    </tr>\n",
       "  </thead>\n",
       "  <tbody>\n",
       "    <tr>\n",
       "      <th>0</th>\n",
       "      <td>0</td>\n",
       "      <td>58c6237dedc2c9c7dc0de1ae</td>\n",
       "      <td>positive</td>\n",
       "      <td>gs://emotional_model/WikiArtImages/WikiArtImag...</td>\n",
       "    </tr>\n",
       "    <tr>\n",
       "      <th>2</th>\n",
       "      <td>2</td>\n",
       "      <td>57727f2dedc2cb3880ed5fa9</td>\n",
       "      <td>positive</td>\n",
       "      <td>gs://emotional_model/WikiArtImages/WikiArtImag...</td>\n",
       "    </tr>\n",
       "    <tr>\n",
       "      <th>3</th>\n",
       "      <td>3</td>\n",
       "      <td>58d1240cedc2c94f900fc610</td>\n",
       "      <td>negative</td>\n",
       "      <td>gs://emotional_model/WikiArtImages/WikiArtImag...</td>\n",
       "    </tr>\n",
       "    <tr>\n",
       "      <th>4</th>\n",
       "      <td>4</td>\n",
       "      <td>57727de7edc2cb3880e91f26</td>\n",
       "      <td>positive</td>\n",
       "      <td>gs://emotional_model/WikiArtImages/WikiArtImag...</td>\n",
       "    </tr>\n",
       "    <tr>\n",
       "      <th>5</th>\n",
       "      <td>5</td>\n",
       "      <td>57728297edc2cb3880f81f5b</td>\n",
       "      <td>positive</td>\n",
       "      <td>gs://emotional_model/WikiArtImages/WikiArtImag...</td>\n",
       "    </tr>\n",
       "    <tr>\n",
       "      <th>...</th>\n",
       "      <td>...</td>\n",
       "      <td>...</td>\n",
       "      <td>...</td>\n",
       "      <td>...</td>\n",
       "    </tr>\n",
       "    <tr>\n",
       "      <th>4098</th>\n",
       "      <td>4098</td>\n",
       "      <td>577281c3edc2cb3880f59182</td>\n",
       "      <td>positive</td>\n",
       "      <td>gs://emotional_model/WikiArtImages/WikiArtImag...</td>\n",
       "    </tr>\n",
       "    <tr>\n",
       "      <th>4099</th>\n",
       "      <td>4099</td>\n",
       "      <td>577280fcedc2cb3880f30eb1</td>\n",
       "      <td>negative</td>\n",
       "      <td>gs://emotional_model/WikiArtImages/WikiArtImag...</td>\n",
       "    </tr>\n",
       "    <tr>\n",
       "      <th>4101</th>\n",
       "      <td>4101</td>\n",
       "      <td>57728001edc2cb3880efddcf</td>\n",
       "      <td>negative</td>\n",
       "      <td>gs://emotional_model/WikiArtImages/WikiArtImag...</td>\n",
       "    </tr>\n",
       "    <tr>\n",
       "      <th>4103</th>\n",
       "      <td>4103</td>\n",
       "      <td>57728412edc2cb3880fc9ff4</td>\n",
       "      <td>positive</td>\n",
       "      <td>gs://emotional_model/WikiArtImages/WikiArtImag...</td>\n",
       "    </tr>\n",
       "    <tr>\n",
       "      <th>4104</th>\n",
       "      <td>4104</td>\n",
       "      <td>57728126edc2cb3880f3a31d</td>\n",
       "      <td>positive</td>\n",
       "      <td>gs://emotional_model/WikiArtImages/WikiArtImag...</td>\n",
       "    </tr>\n",
       "  </tbody>\n",
       "</table>\n",
       "<p>2744 rows × 4 columns</p>\n",
       "</div>"
      ],
      "text/plain": [
       "      Unnamed: 0                        ID   emotion  \\\n",
       "0              0  58c6237dedc2c9c7dc0de1ae  positive   \n",
       "2              2  57727f2dedc2cb3880ed5fa9  positive   \n",
       "3              3  58d1240cedc2c94f900fc610  negative   \n",
       "4              4  57727de7edc2cb3880e91f26  positive   \n",
       "5              5  57728297edc2cb3880f81f5b  positive   \n",
       "...          ...                       ...       ...   \n",
       "4098        4098  577281c3edc2cb3880f59182  positive   \n",
       "4099        4099  577280fcedc2cb3880f30eb1  negative   \n",
       "4101        4101  57728001edc2cb3880efddcf  negative   \n",
       "4103        4103  57728412edc2cb3880fc9ff4  positive   \n",
       "4104        4104  57728126edc2cb3880f3a31d  positive   \n",
       "\n",
       "                                                   path  \n",
       "0     gs://emotional_model/WikiArtImages/WikiArtImag...  \n",
       "2     gs://emotional_model/WikiArtImages/WikiArtImag...  \n",
       "3     gs://emotional_model/WikiArtImages/WikiArtImag...  \n",
       "4     gs://emotional_model/WikiArtImages/WikiArtImag...  \n",
       "5     gs://emotional_model/WikiArtImages/WikiArtImag...  \n",
       "...                                                 ...  \n",
       "4098  gs://emotional_model/WikiArtImages/WikiArtImag...  \n",
       "4099  gs://emotional_model/WikiArtImages/WikiArtImag...  \n",
       "4101  gs://emotional_model/WikiArtImages/WikiArtImag...  \n",
       "4103  gs://emotional_model/WikiArtImages/WikiArtImag...  \n",
       "4104  gs://emotional_model/WikiArtImages/WikiArtImag...  \n",
       "\n",
       "[2744 rows x 4 columns]"
      ]
     },
     "execution_count": 10,
     "metadata": {},
     "output_type": "execute_result"
    }
   ],
   "source": [
    "pos_neg_df"
   ]
  },
  {
   "cell_type": "code",
   "execution_count": 11,
   "metadata": {
    "colab": {
     "base_uri": "https://localhost:8080/",
     "height": 178
    },
    "id": "UK6QojtiMLre",
    "outputId": "f1c52685-252a-4b40-e766-3881139a9c19"
   },
   "outputs": [
    {
     "data": {
      "text/plain": [
       "positive    1954\n",
       "negative     790\n",
       "Name: emotion, dtype: int64"
      ]
     },
     "execution_count": 11,
     "metadata": {},
     "output_type": "execute_result"
    }
   ],
   "source": [
    "pos_neg_df.emotion.value_counts()"
   ]
  },
  {
   "cell_type": "code",
   "execution_count": 12,
   "metadata": {
    "colab": {
     "base_uri": "https://localhost:8080/"
    },
    "id": "KbllFWWeMOs9",
    "outputId": "5634f751-7457-4d83-9228-94328aede337"
   },
   "outputs": [
    {
     "data": {
      "text/plain": [
       "2744"
      ]
     },
     "execution_count": 12,
     "metadata": {},
     "output_type": "execute_result"
    }
   ],
   "source": [
    "image_count = len(pos_neg_df)\n",
    "image_count"
   ]
  },
  {
   "cell_type": "code",
   "execution_count": 20,
   "metadata": {},
   "outputs": [
    {
     "name": "stdout",
     "output_type": "stream",
     "text": [
      "gs://emotional_model/WikiArtImages/WikiArtImages/58c6237dedc2c9c7dc0de1ae.png\n",
      "Path is valid: gs://emotional_model/WikiArtImages/WikiArtImages/58c6237dedc2c9c7dc0de1ae.png\n",
      "gs://emotional_model/WikiArtImages/WikiArtImages/57727f2dedc2cb3880ed5fa9.png\n",
      "Path is valid: gs://emotional_model/WikiArtImages/WikiArtImages/57727f2dedc2cb3880ed5fa9.png\n",
      "gs://emotional_model/WikiArtImages/WikiArtImages/58d1240cedc2c94f900fc610.png\n",
      "Path is valid: gs://emotional_model/WikiArtImages/WikiArtImages/58d1240cedc2c94f900fc610.png\n",
      "gs://emotional_model/WikiArtImages/WikiArtImages/57727de7edc2cb3880e91f26.png\n",
      "Path is valid: gs://emotional_model/WikiArtImages/WikiArtImages/57727de7edc2cb3880e91f26.png\n",
      "gs://emotional_model/WikiArtImages/WikiArtImages/57728297edc2cb3880f81f5b.png\n",
      "Path is valid: gs://emotional_model/WikiArtImages/WikiArtImages/57728297edc2cb3880f81f5b.png\n",
      "gs://emotional_model/WikiArtImages/WikiArtImages/5772797dedc2cb3880db5504.png\n",
      "Path is valid: gs://emotional_model/WikiArtImages/WikiArtImages/5772797dedc2cb3880db5504.png\n",
      "gs://emotional_model/WikiArtImages/WikiArtImages/57726e48edc2cb3880b69b14.png\n",
      "Path is valid: gs://emotional_model/WikiArtImages/WikiArtImages/57726e48edc2cb3880b69b14.png\n",
      "gs://emotional_model/WikiArtImages/WikiArtImages/577285b4edc2cb388001c741.png\n",
      "Path is valid: gs://emotional_model/WikiArtImages/WikiArtImages/577285b4edc2cb388001c741.png\n",
      "gs://emotional_model/WikiArtImages/WikiArtImages/5772898cedc2cb38800df3fd.png\n",
      "Path is valid: gs://emotional_model/WikiArtImages/WikiArtImages/5772898cedc2cb38800df3fd.png\n",
      "gs://emotional_model/WikiArtImages/WikiArtImages/5772849eedc2cb3880fe72ab.png\n",
      "Path is valid: gs://emotional_model/WikiArtImages/WikiArtImages/5772849eedc2cb3880fe72ab.png\n"
     ]
    }
   ],
   "source": [
    "for path in pos_neg_df['path'].head(10):\n",
    "    print(path)\n",
    "    if not tf.io.gfile.exists(path):\n",
    "        print(f\"Path not found: {path}\")\n",
    "    else:\n",
    "        print(f\"Path is valid: {path}\")"
   ]
  },
  {
   "cell_type": "code",
   "execution_count": 43,
   "metadata": {},
   "outputs": [
    {
     "name": "stdout",
     "output_type": "stream",
     "text": [
      "Image can be accessed.\n"
     ]
    }
   ],
   "source": [
    "import tensorflow as tf\n",
    "\n",
    "test_path = pos_neg_df['path'].iloc[0]  # First image path\n",
    "try:\n",
    "    img = tf.io.read_file(test_path)\n",
    "    print(\"Image can be accessed.\")\n",
    "except Exception as e:\n",
    "    print(f\"Error accessing the image: {e}\")"
   ]
  },
  {
   "cell_type": "code",
   "execution_count": 28,
   "metadata": {
    "colab": {
     "base_uri": "https://localhost:8080/"
    },
    "id": "FIl4mdU3Mehq",
    "outputId": "5da06b64-5927-42ff-f1b7-03f3bafac713"
   },
   "outputs": [
    {
     "name": "stdout",
     "output_type": "stream",
     "text": [
      "{}\n"
     ]
    }
   ],
   "source": [
    "class_names = train_generator.class_indices\n",
    "print(class_names)"
   ]
  },
  {
   "cell_type": "code",
   "execution_count": 29,
   "metadata": {
    "colab": {
     "base_uri": "https://localhost:8080/"
    },
    "id": "ssaRNQICMej9",
    "outputId": "1fb1efb4-3dd4-4fdb-c6e6-93dcb60bdf12"
   },
   "outputs": [
    {
     "name": "stdout",
     "output_type": "stream",
     "text": [
      "float32 (0, 180, 180, 3)\n",
      "float32 (0,)\n"
     ]
    }
   ],
   "source": [
    "images, labels = next(train_generator)\n",
    "print(images.dtype, images.shape)\n",
    "print(labels.dtype, labels.shape)"
   ]
  },
  {
   "cell_type": "code",
   "execution_count": 36,
   "metadata": {},
   "outputs": [
    {
     "name": "stdout",
     "output_type": "stream",
     "text": [
      "Collecting tensorflow_addons\n",
      "  Downloading tensorflow_addons-0.14.0-cp36-cp36m-manylinux_2_12_x86_64.manylinux2010_x86_64.whl (1.1 MB)\n",
      "     |████████████████████████████████| 1.1 MB 22.8 MB/s            \n",
      "\u001b[?25hCollecting typeguard>=2.7\n",
      "  Downloading typeguard-2.13.3-py3-none-any.whl (17 kB)\n",
      "Installing collected packages: typeguard, tensorflow-addons\n",
      "Successfully installed tensorflow-addons-0.14.0 typeguard-2.13.3\n"
     ]
    }
   ],
   "source": [
    "!pip install tensorflow_addons"
   ]
  },
  {
   "cell_type": "markdown",
   "metadata": {
    "id": "lP70mqToLxw2"
   },
   "source": []
  },
  {
   "cell_type": "code",
   "execution_count": 13,
   "metadata": {
    "id": "PvJ9ZgwQUkaD"
   },
   "outputs": [],
   "source": [
    "import tensorflow as tf\n",
    "import tensorflow_addons as tfa\n",
    "img_height = 224\n",
    "img_width = 224\n",
    "image_count = len(pos_neg_df)\n",
    "val_set_start = int(0.6 * image_count)  # 60% for training\n",
    "test_set_start = int(0.8 * image_count) # 20% for validation, 20% for testing\n",
    "\n",
    "# Define augmentation functions\n",
    "def augment_image(image):\n",
    "    # Random rotation using rotate with random angle\n",
    "    angle = tf.random.uniform([], -40 * 3.14159 / 180, 40 * 3.14159 / 180)\n",
    "    image = tfa.image.rotate(image, angle)  # Using tensorflow_addons\n",
    "    \n",
    "    # Random horizontal flip\n",
    "    image = tf.image.random_flip_left_right(image)\n",
    "    \n",
    "    # Random brightness\n",
    "    image = tf.image.random_brightness(image, 0.2)\n",
    "    \n",
    "    # Random contrast\n",
    "    image = tf.image.random_contrast(image, 0.8, 1.2)\n",
    "    \n",
    "    # Random zoom equivalent (using crop and resize)\n",
    "    crop_size = tf.cast([img_height*0.8, img_width*0.8], tf.int32)\n",
    "    image = tf.image.random_crop(image, [crop_size[0], crop_size[1], 3])\n",
    "    image = tf.image.resize(image, [img_height, img_width])\n",
    "    \n",
    "    # Ensure the values are still in valid range\n",
    "    image = tf.clip_by_value(image, 0.0, 1.0)\n",
    "    \n",
    "    return image\n",
    "\n",
    "def decode_and_augment(path, label, training=True):\n",
    "    # Read the file\n",
    "    file_bytes = tf.io.read_file(path)\n",
    "    # Decode the image\n",
    "    image = tf.io.decode_image(file_bytes, channels=3, expand_animations=False)\n",
    "    # Convert to float and resize\n",
    "    image = tf.cast(image, tf.float32)\n",
    "    image = tf.image.resize(image, [img_height, img_width])\n",
    "    # Normalize first\n",
    "    image = image / 255.0\n",
    "    \n",
    "    # Apply augmentation only during training\n",
    "    if training:\n",
    "        image = augment_image(image)\n",
    "    \n",
    "    return image, label\n",
    "\n",
    "# Convert emotions to binary format (0 for negative, 1 for positive)\n",
    "labels = (pos_neg_df['emotion'] == 'positive').astype(int).values\n",
    "paths = pos_neg_df['path'].values\n",
    "\n",
    "# Create the datasets\n",
    "train_paths = paths[:val_set_start]\n",
    "train_labels = labels[:val_set_start]\n",
    "\n",
    "val_paths = paths[val_set_start:test_set_start]\n",
    "val_labels = labels[val_set_start:test_set_start]\n",
    "\n",
    "test_paths = paths[test_set_start:]\n",
    "test_labels = labels[test_set_start:]\n",
    "\n",
    "# Create training dataset\n",
    "train_ds = tf.data.Dataset.from_tensor_slices((train_paths, train_labels))\n",
    "train_ds = train_ds.map(\n",
    "    lambda x, y: decode_and_augment(x, y, training=True),\n",
    "    num_parallel_calls=tf.data.AUTOTUNE\n",
    ")\n",
    "train_ds = train_ds.shuffle(1000)\n",
    "train_ds = train_ds.batch(32)\n",
    "train_ds = train_ds.prefetch(tf.data.AUTOTUNE)\n",
    "\n",
    "# Create validation dataset\n",
    "val_ds = tf.data.Dataset.from_tensor_slices((val_paths, val_labels))\n",
    "val_ds = val_ds.map(\n",
    "    lambda x, y: decode_and_augment(x, y, training=False),\n",
    "    num_parallel_calls=tf.data.AUTOTUNE\n",
    ")\n",
    "val_ds = val_ds.batch(32)\n",
    "val_ds = val_ds.prefetch(tf.data.AUTOTUNE)\n",
    "\n",
    "# Create test dataset\n",
    "test_ds = tf.data.Dataset.from_tensor_slices((test_paths, test_labels))\n",
    "test_ds = test_ds.map(\n",
    "    lambda x, y: decode_and_augment(x, y, training=False),\n",
    "    num_parallel_calls=tf.data.AUTOTUNE\n",
    ")\n",
    "test_ds = test_ds.batch(32)\n",
    "test_ds = test_ds.prefetch(tf.data.AUTOTUNE)"
   ]
  },
  {
   "cell_type": "code",
   "execution_count": 14,
   "metadata": {},
   "outputs": [
    {
     "name": "stdout",
     "output_type": "stream",
     "text": [
      "Epoch 1/100\n",
      "51/51 [==============================] - 759s 8s/step - loss: 0.7118 - accuracy: 0.6726 - val_loss: 0.5776 - val_accuracy: 0.7031\n",
      "Epoch 2/100\n",
      " 1/51 [..............................] - ETA: 15s - loss: 0.5261 - accuracy: 0.7143WARNING:tensorflow:Your input ran out of data; interrupting training. Make sure that your dataset or generator can generate at least `steps_per_epoch * epochs` batches (in this case, 5100 batches). You may need to use the repeat() function when building your dataset.\n",
      "51/51 [==============================] - 169s 3s/step - loss: 0.5261 - accuracy: 0.7143 - val_loss: 0.5911 - val_accuracy: 0.6940\n"
     ]
    }
   ],
   "source": [
    "# Define image dimensions to match MobileNetV2 preferred size\n",
    "img_height = 224\n",
    "img_width = 224\n",
    "batch_size = 32\n",
    "epochs = 100\n",
    "\n",
    "# Define MobileNetV2 model\n",
    "base_model = tf.keras.applications.MobileNetV2(\n",
    "    weights='imagenet',\n",
    "    include_top=False,\n",
    "    input_shape=(img_height, img_width, 3)\n",
    ")\n",
    "\n",
    "# Freeze the base model layers\n",
    "base_model.trainable = False\n",
    "\n",
    "# Build the complete model\n",
    "model_pn_mobilenet_aug = tf.keras.Sequential([\n",
    "    base_model,\n",
    "    tf.keras.layers.GlobalAveragePooling2D(),\n",
    "    tf.keras.layers.Flatten(),\n",
    "    tf.keras.layers.Dense(512, activation='relu'),\n",
    "    tf.keras.layers.Dense(50, activation='relu'),\n",
    "    tf.keras.layers.Dense(1, activation='sigmoid')\n",
    "])\n",
    "\n",
    "# Compile the model\n",
    "model_pn_mobilenet_aug.compile(\n",
    "    optimizer='adam',\n",
    "    loss='binary_crossentropy',\n",
    "    metrics=['accuracy']\n",
    ")\n",
    "\n",
    "# Calculate steps per epoch\n",
    "steps_per_epoch = len(train_paths) // batch_size\n",
    "\n",
    "# Train the model\n",
    "history_pn_mobilenet_aug = model_pn_mobilenet_aug.fit(\n",
    "    train_ds,\n",
    "    validation_data=val_ds,\n",
    "    epochs=epochs,\n",
    "    steps_per_epoch=steps_per_epoch,\n",
    "    callbacks=[\n",
    "        tf.keras.callbacks.EarlyStopping(\n",
    "            monitor='val_loss',\n",
    "            mode='min',\n",
    "            verbose=1,\n",
    "            patience=8,\n",
    "            restore_best_weights=True\n",
    "        )\n",
    "    ]\n",
    ")"
   ]
  },
  {
   "cell_type": "code",
   "execution_count": 16,
   "metadata": {
    "id": "DkTaJkgHNVaN"
   },
   "outputs": [
    {
     "data": {
      "image/png": "[encoded data removed]",
      "text/plain": [
       "<Figure size 576x576 with 2 Axes>"
      ]
     },
     "metadata": {
      "needs_background": "light"
     },
     "output_type": "display_data"
    }
   ],
   "source": [
    "# Get the number of epochs the model ran\n",
    "number_of_epochs_it_ran = len(history_pn_mobilenet_aug.history['loss'])\n",
    "\n",
    "# Extract metrics from the history object\n",
    "acc = history_pn_mobilenet_aug.history['accuracy']\n",
    "val_acc = history_pn_mobilenet_aug.history['val_accuracy']\n",
    "loss = history_pn_mobilenet_aug.history['loss']\n",
    "val_loss = history_pn_mobilenet_aug.history['val_loss']\n",
    "\n",
    "# Create a range of epochs\n",
    "epochs_range = range(number_of_epochs_it_ran)\n",
    "\n",
    "# Plot Training and Validation Accuracy and Loss\n",
    "import matplotlib.pyplot as plt\n",
    "\n",
    "plt.figure(figsize=(8, 8))\n",
    "\n",
    "# Plot Training and Validation Accuracy\n",
    "plt.subplot(1, 2, 1)\n",
    "plt.plot(epochs_range, acc, label='Training Accuracy')\n",
    "plt.plot(epochs_range, val_acc, label='Validation Accuracy')\n",
    "plt.legend(loc='lower right')\n",
    "plt.title('Training and Validation Accuracy')\n",
    "\n",
    "# Plot Training and Validation Loss\n",
    "plt.subplot(1, 2, 2)\n",
    "plt.plot(epochs_range, loss, label='Training Loss')\n",
    "plt.plot(epochs_range, val_loss, label='Validation Loss')\n",
    "plt.legend(loc='upper right')\n",
    "plt.title('Training and Validation Loss')\n",
    "\n",
    "# Show the plots\n",
    "plt.show()\n"
   ]
  },
  {
   "cell_type": "code",
   "execution_count": 17,
   "metadata": {},
   "outputs": [
    {
     "data": {
      "text/plain": [
       "0.6985428333282471"
      ]
     },
     "execution_count": 17,
     "metadata": {},
     "output_type": "execute_result"
    }
   ],
   "source": [
    "mean_val_acc = sum(val_acc)/len(val_acc)\n",
    "mean_val_acc"
   ]
  },
  {
   "cell_type": "code",
   "execution_count": null,
   "metadata": {},
   "outputs": [],
   "source": []
  }
 ],
 "metadata": {
  "accelerator": "GPU",
  "colab": {
   "gpuType": "A100",
   "machine_shape": "hm",
   "provenance": []
  },
  "kernelspec": {
   "display_name": "Python 3",
   "language": "python",
   "name": "python3"
  },
  "language_info": {
   "codemirror_mode": {
    "name": "ipython",
    "version": 3
   },
   "file_extension": ".py",
   "mimetype": "text/x-python",
   "name": "python",
   "nbconvert_exporter": "python",
   "pygments_lexer": "ipython3",
   "version": "3.6.9"
  }
 },
 "nbformat": 4,
 "nbformat_minor": 1
}
