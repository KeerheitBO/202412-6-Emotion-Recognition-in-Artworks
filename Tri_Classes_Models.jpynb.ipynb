{
 "cells": [
  {
   "cell_type": "code",
   "execution_count": 1,
   "metadata": {
    "id": "ONsVEiGe3Z73"
   },
   "outputs": [],
   "source": [
    "import pandas as pd\n",
    "import numpy as np\n",
    "\n",
    "import pathlib\n",
    "import matplotlib.pyplot as plt\n",
    "\n",
    "from glob import glob\n",
    "import os\n",
    "\n",
    "from tensorflow.keras import layers\n",
    "from tensorflow.keras.models import Sequential\n",
    "from tensorflow.keras.preprocessing.image import ImageDataGenerator\n",
    "\n",
    "from tensorflow.keras.callbacks import EarlyStopping\n",
    "from tensorflow.keras.layers import Dense, Conv2D, MaxPool2D, Flatten, Dropout, Activation, LeakyReLU\n",
    "from tensorflow.keras import regularizers\n",
    "\n",
    "from tensorflow.keras.applications import mobilenet_v2\n",
    "from tensorflow.keras.models import Model\n",
    "from tensorflow.keras.callbacks import ReduceLROnPlateau\n",
    "\n",
    "from tensorflow.keras.applications import VGG16\n",
    "from tensorflow.keras.layers import InputLayer"
   ]
  },
  {
   "cell_type": "code",
   "execution_count": 2,
   "metadata": {
    "colab": {
     "base_uri": "https://localhost:8080/"
    },
    "id": "1DoYK77F3gRl",
    "outputId": "875458b2-99ad-462a-f15a-c9c8fc76cb66"
   },
   "outputs": [
    {
     "name": "stdout",
     "output_type": "stream",
     "text": [
      "Found 4119 images.\n"
     ]
    }
   ],
   "source": [
    "import tensorflow as tf\n",
    "\n",
    "data_dir = \"gs://emotional_model/WikiArtImages/WikiArtImages/\"\n",
    "file_pattern = data_dir + \"*.png\"  # Update file extension as necessary\n",
    "\n",
    "image_count = len(tf.io.gfile.glob(file_pattern))\n",
    "print(f\"Found {image_count} images.\")"
   ]
  },
  {
   "cell_type": "code",
   "execution_count": 3,
   "metadata": {
    "colab": {
     "base_uri": "https://localhost:8080/",
     "height": 143
    },
    "id": "ufRsQBya4Z4-",
    "outputId": "342dff76-78c6-4572-e4f5-e8519319d61a"
   },
   "outputs": [
    {
     "data": {
      "text/html": [
       "<div>\n",
       "<style scoped>\n",
       "    .dataframe tbody tr th:only-of-type {\n",
       "        vertical-align: middle;\n",
       "    }\n",
       "\n",
       "    .dataframe tbody tr th {\n",
       "        vertical-align: top;\n",
       "    }\n",
       "\n",
       "    .dataframe thead th {\n",
       "        text-align: right;\n",
       "    }\n",
       "</style>\n",
       "<table border=\"1\" class=\"dataframe\">\n",
       "  <thead>\n",
       "    <tr style=\"text-align: right;\">\n",
       "      <th></th>\n",
       "      <th>Unnamed: 0</th>\n",
       "      <th>ID</th>\n",
       "      <th>emotion</th>\n",
       "      <th>path</th>\n",
       "    </tr>\n",
       "  </thead>\n",
       "  <tbody>\n",
       "    <tr>\n",
       "      <th>0</th>\n",
       "      <td>0</td>\n",
       "      <td>58c6237dedc2c9c7dc0de1ae</td>\n",
       "      <td>happiness</td>\n",
       "      <td>/content/drive/My Drive/WikiArtImages/58c6237d...</td>\n",
       "    </tr>\n",
       "    <tr>\n",
       "      <th>1</th>\n",
       "      <td>1</td>\n",
       "      <td>577280dfedc2cb3880f28e76</td>\n",
       "      <td>anticipation</td>\n",
       "      <td>/content/drive/My Drive/WikiArtImages/577280df...</td>\n",
       "    </tr>\n",
       "    <tr>\n",
       "      <th>2</th>\n",
       "      <td>2</td>\n",
       "      <td>57727f2dedc2cb3880ed5fa9</td>\n",
       "      <td>happiness</td>\n",
       "      <td>/content/drive/My Drive/WikiArtImages/57727f2d...</td>\n",
       "    </tr>\n",
       "  </tbody>\n",
       "</table>\n",
       "</div>"
      ],
      "text/plain": [
       "   Unnamed: 0                        ID       emotion  \\\n",
       "0           0  58c6237dedc2c9c7dc0de1ae     happiness   \n",
       "1           1  577280dfedc2cb3880f28e76  anticipation   \n",
       "2           2  57727f2dedc2cb3880ed5fa9     happiness   \n",
       "\n",
       "                                                path  \n",
       "0  /content/drive/My Drive/WikiArtImages/58c6237d...  \n",
       "1  /content/drive/My Drive/WikiArtImages/577280df...  \n",
       "2  /content/drive/My Drive/WikiArtImages/57727f2d...  "
      ]
     },
     "execution_count": 3,
     "metadata": {},
     "output_type": "execute_result"
    }
   ],
   "source": [
    "df = pd.read_csv(\"gs://emotional_model/6893Data/path_prob.csv\")\n",
    "df.head(3)"
   ]
  },
  {
   "cell_type": "code",
   "execution_count": 4,
   "metadata": {
    "colab": {
     "base_uri": "https://localhost:8080/",
     "height": 711
    },
    "id": "Bz7eneUz4ghC",
    "outputId": "701799d0-97d6-4c25-bbba-64399b68bd00"
   },
   "outputs": [
    {
     "data": {
      "text/plain": [
       "happiness           1102\n",
       "surprise             822\n",
       "anticipation         520\n",
       "trust                478\n",
       "fear                 358\n",
       "sadness              226\n",
       "humility             184\n",
       "love                 114\n",
       "disgust              101\n",
       "optimism              62\n",
       "arrogance             52\n",
       "anger                 36\n",
       "gratitude             14\n",
       "pessimism             10\n",
       "shame                  7\n",
       "disagreeableness       7\n",
       "agreeableness          5\n",
       "neutral                5\n",
       "shyness                2\n",
       "Name: emotion, dtype: int64"
      ]
     },
     "execution_count": 4,
     "metadata": {},
     "output_type": "execute_result"
    }
   ],
   "source": [
    "df.emotion.value_counts()\n"
   ]
  },
  {
   "cell_type": "code",
   "execution_count": 5,
   "metadata": {
    "id": "Wwzef-eo-2pB"
   },
   "outputs": [],
   "source": [
    "positive_emotions = ['gratitude', 'happiness', 'humility', 'love', 'optimism', 'trust']\n",
    "negative_emotions = ['anger', 'arrogance', 'disgust', 'fear', 'pessimism', 'regret', 'sadness', 'shame']\n",
    "mixed_emotions = ['agreeableness', 'anticipation', 'disagreeableness', 'shyness', 'surprise', 'neutral']"
   ]
  },
  {
   "cell_type": "code",
   "execution_count": 6,
   "metadata": {
    "colab": {
     "base_uri": "https://localhost:8080/",
     "height": 206
    },
    "id": "4ykjbbmD-6TB",
    "outputId": "f17740a8-b5b1-442f-cda6-c5702b165e12"
   },
   "outputs": [
    {
     "data": {
      "text/html": [
       "<div>\n",
       "<style scoped>\n",
       "    .dataframe tbody tr th:only-of-type {\n",
       "        vertical-align: middle;\n",
       "    }\n",
       "\n",
       "    .dataframe tbody tr th {\n",
       "        vertical-align: top;\n",
       "    }\n",
       "\n",
       "    .dataframe thead th {\n",
       "        text-align: right;\n",
       "    }\n",
       "</style>\n",
       "<table border=\"1\" class=\"dataframe\">\n",
       "  <thead>\n",
       "    <tr style=\"text-align: right;\">\n",
       "      <th></th>\n",
       "      <th>Unnamed: 0</th>\n",
       "      <th>ID</th>\n",
       "      <th>emotion</th>\n",
       "      <th>path</th>\n",
       "    </tr>\n",
       "  </thead>\n",
       "  <tbody>\n",
       "    <tr>\n",
       "      <th>0</th>\n",
       "      <td>0</td>\n",
       "      <td>58c6237dedc2c9c7dc0de1ae</td>\n",
       "      <td>positive</td>\n",
       "      <td>/content/drive/My Drive/WikiArtImages/58c6237d...</td>\n",
       "    </tr>\n",
       "    <tr>\n",
       "      <th>1</th>\n",
       "      <td>1</td>\n",
       "      <td>577280dfedc2cb3880f28e76</td>\n",
       "      <td>mixed</td>\n",
       "      <td>/content/drive/My Drive/WikiArtImages/577280df...</td>\n",
       "    </tr>\n",
       "    <tr>\n",
       "      <th>2</th>\n",
       "      <td>2</td>\n",
       "      <td>57727f2dedc2cb3880ed5fa9</td>\n",
       "      <td>positive</td>\n",
       "      <td>/content/drive/My Drive/WikiArtImages/57727f2d...</td>\n",
       "    </tr>\n",
       "    <tr>\n",
       "      <th>3</th>\n",
       "      <td>3</td>\n",
       "      <td>58d1240cedc2c94f900fc610</td>\n",
       "      <td>negative</td>\n",
       "      <td>/content/drive/My Drive/WikiArtImages/58d1240c...</td>\n",
       "    </tr>\n",
       "    <tr>\n",
       "      <th>4</th>\n",
       "      <td>4</td>\n",
       "      <td>57727de7edc2cb3880e91f26</td>\n",
       "      <td>positive</td>\n",
       "      <td>/content/drive/My Drive/WikiArtImages/57727de7...</td>\n",
       "    </tr>\n",
       "  </tbody>\n",
       "</table>\n",
       "</div>"
      ],
      "text/plain": [
       "   Unnamed: 0                        ID   emotion  \\\n",
       "0           0  58c6237dedc2c9c7dc0de1ae  positive   \n",
       "1           1  577280dfedc2cb3880f28e76     mixed   \n",
       "2           2  57727f2dedc2cb3880ed5fa9  positive   \n",
       "3           3  58d1240cedc2c94f900fc610  negative   \n",
       "4           4  57727de7edc2cb3880e91f26  positive   \n",
       "\n",
       "                                                path  \n",
       "0  /content/drive/My Drive/WikiArtImages/58c6237d...  \n",
       "1  /content/drive/My Drive/WikiArtImages/577280df...  \n",
       "2  /content/drive/My Drive/WikiArtImages/57727f2d...  \n",
       "3  /content/drive/My Drive/WikiArtImages/58d1240c...  \n",
       "4  /content/drive/My Drive/WikiArtImages/57727de7...  "
      ]
     },
     "execution_count": 6,
     "metadata": {},
     "output_type": "execute_result"
    }
   ],
   "source": [
    "df[\"emotion\"] = df.emotion.apply(lambda x: \"positive\" if (x in positive_emotions) \\\n",
    "                                 else (\"negative\" if x in negative_emotions else \"mixed\"))\n",
    "df.head(5)\n"
   ]
  },
  {
   "cell_type": "code",
   "execution_count": 7,
   "metadata": {},
   "outputs": [
    {
     "name": "stdout",
     "output_type": "stream",
     "text": [
      "   Unnamed: 0                        ID   emotion  \\\n",
      "0           0  58c6237dedc2c9c7dc0de1ae  positive   \n",
      "1           1  577280dfedc2cb3880f28e76     mixed   \n",
      "2           2  57727f2dedc2cb3880ed5fa9  positive   \n",
      "3           3  58d1240cedc2c94f900fc610  negative   \n",
      "4           4  57727de7edc2cb3880e91f26  positive   \n",
      "\n",
      "                                                path  \n",
      "0  gs://emotional_model/WikiArtImages/WikiArtImag...  \n",
      "1  gs://emotional_model/WikiArtImages/WikiArtImag...  \n",
      "2  gs://emotional_model/WikiArtImages/WikiArtImag...  \n",
      "3  gs://emotional_model/WikiArtImages/WikiArtImag...  \n",
      "4  gs://emotional_model/WikiArtImages/WikiArtImag...  \n"
     ]
    }
   ],
   "source": [
    "df['path'] = df['path'].str.replace(\n",
    "    '/content/drive/My Drive', \n",
    "    'gs://emotional_model/WikiArtImages', \n",
    "    regex=False\n",
    ")\n",
    "\n",
    "# Verify the changes\n",
    "print(df.head())"
   ]
  },
  {
   "cell_type": "code",
   "execution_count": 8,
   "metadata": {
    "colab": {
     "base_uri": "https://localhost:8080/",
     "height": 209
    },
    "id": "6aOtkPyv-6eO",
    "outputId": "620d0896-91df-4fa7-b9f7-bef43ff050be"
   },
   "outputs": [
    {
     "data": {
      "text/plain": [
       "positive    1954\n",
       "mixed       1361\n",
       "negative     790\n",
       "Name: emotion, dtype: int64"
      ]
     },
     "execution_count": 8,
     "metadata": {},
     "output_type": "execute_result"
    }
   ],
   "source": [
    "df.emotion.value_counts()"
   ]
  },
  {
   "cell_type": "code",
   "execution_count": 11,
   "metadata": {},
   "outputs": [
    {
     "name": "stdout",
     "output_type": "stream",
     "text": [
      "Requirement already satisfied: seaborn in /home/ecbm4040/envTF24/lib/python3.6/site-packages (0.11.2)\r\n",
      "Requirement already satisfied: scipy>=1.0 in /home/ecbm4040/envTF24/lib/python3.6/site-packages (from seaborn) (1.5.4)\r\n",
      "Requirement already satisfied: numpy>=1.15 in /home/ecbm4040/envTF24/lib/python3.6/site-packages (from seaborn) (1.19.5)\r\n",
      "Requirement already satisfied: pandas>=0.23 in /home/ecbm4040/envTF24/lib/python3.6/site-packages (from seaborn) (1.1.5)\r\n",
      "Requirement already satisfied: matplotlib>=2.2 in /home/ecbm4040/envTF24/lib/python3.6/site-packages (from seaborn) (3.3.4)\r\n",
      "Requirement already satisfied: pyparsing!=2.0.4,!=2.1.2,!=2.1.6,>=2.0.3 in /home/ecbm4040/envTF24/lib/python3.6/site-packages (from matplotlib>=2.2->seaborn) (2.4.7)\r\n",
      "Requirement already satisfied: kiwisolver>=1.0.1 in /home/ecbm4040/envTF24/lib/python3.6/site-packages (from matplotlib>=2.2->seaborn) (1.3.1)\r\n",
      "Requirement already satisfied: python-dateutil>=2.1 in /home/ecbm4040/envTF24/lib/python3.6/site-packages (from matplotlib>=2.2->seaborn) (2.8.2)\r\n",
      "Requirement already satisfied: cycler>=0.10 in /home/ecbm4040/envTF24/lib/python3.6/site-packages (from matplotlib>=2.2->seaborn) (0.10.0)\r\n",
      "Requirement already satisfied: pillow>=6.2.0 in /home/ecbm4040/envTF24/lib/python3.6/site-packages (from matplotlib>=2.2->seaborn) (8.3.2)\r\n",
      "Requirement already satisfied: pytz>=2017.2 in /home/ecbm4040/envTF24/lib/python3.6/site-packages (from pandas>=0.23->seaborn) (2024.2)\r\n",
      "Requirement already satisfied: six in /home/ecbm4040/envTF24/lib/python3.6/site-packages (from cycler>=0.10->matplotlib>=2.2->seaborn) (1.15.0)\r\n"
     ]
    }
   ],
   "source": [
    "!pip install seaborn"
   ]
  },
  {
   "cell_type": "code",
   "execution_count": 12,
   "metadata": {
    "colab": {
     "base_uri": "https://localhost:8080/",
     "height": 1000
    },
    "id": "JZag6cjgcIKt",
    "outputId": "4490050e-2ad7-42c5-f955-1fe77a8ec49b"
   },
   "outputs": [
    {
     "name": "stderr",
     "output_type": "stream",
     "text": [
      "/home/ecbm4040/envTF24/lib/python3.6/site-packages/seaborn/_decorators.py:43: FutureWarning: Pass the following variable as a keyword arg: x. From version 0.12, the only valid positional argument will be `data`, and passing other arguments without an explicit keyword will result in an error or misinterpretation.\n",
      "  FutureWarning\n"
     ]
    },
    {
     "data": {
      "image/png": "[encoded data removed]",
      "text/plain": [
       "<Figure size 720x720 with 1 Axes>"
      ]
     },
     "metadata": {
      "needs_background": "light"
     },
     "output_type": "display_data"
    }
   ],
   "source": [
    "import seaborn as sns\n",
    "emotion_3_class_count_plt = plt.figure(figsize=(10, 10))\n",
    "\n",
    "\n",
    "sns.countplot(df.emotion, palette = \"Set2\")\n",
    "plt.xlabel('Emotion Evoked')\n",
    "plt.ylabel('Number of Artworks')\n",
    "plt.xticks(rotation=60)\n",
    "plt.title('Value Counts for Emotions')\n",
    "plt.savefig(\"Value Counts for 3 Class.png\", bbox_inches='tight', dpi = 250)\n",
    "emotion_3_class_count_plt.savefig(\"Value Counts for 3 Class.png\", bbox_inches='tight', dpi = 250)"
   ]
  },
  {
   "cell_type": "markdown",
   "metadata": {
    "id": "qRZkRBphc2h9"
   },
   "source": [
    "## BaseLine"
   ]
  },
  {
   "cell_type": "code",
   "execution_count": 13,
   "metadata": {},
   "outputs": [],
   "source": [
    "import tensorflow as tf\n",
    "\n",
    "# Define training parameters\n",
    "img_height = 224  # Image height\n",
    "img_width = 224   # Image width\n",
    "batch_size = 32\n",
    "epochs = 100\n",
    "\n",
    "# Convert labels to categorical format\n",
    "emotions = pd.get_dummies(df['emotion']).values  # One-hot encoding\n",
    "paths = df['path'].values\n",
    "\n",
    "# Split datasets into train, validation, and test sets\n",
    "val_set_start = int(0.6 * len(paths))\n",
    "test_set_start = int(0.8 * len(paths))\n",
    "\n",
    "train_paths = paths[:val_set_start]\n",
    "train_labels = emotions[:val_set_start]\n",
    "\n",
    "val_paths = paths[val_set_start:test_set_start]\n",
    "val_labels = emotions[val_set_start:test_set_start]\n",
    "\n",
    "test_paths = paths[test_set_start:]\n",
    "test_labels = emotions[test_set_start:]\n",
    "\n",
    "# Define a function to preprocess images without augmentation\n",
    "def preprocess_image(path, label):\n",
    "    # Read and decode the image\n",
    "    file_bytes = tf.io.read_file(path)\n",
    "    image = tf.io.decode_jpeg(file_bytes, channels=3)  # Ensure JPEG format\n",
    "    # Resize and normalize the image\n",
    "    image = tf.image.resize(image, [img_height, img_width])\n",
    "    image = image / 255.0  # Normalize to [0, 1]\n",
    "    return image, label\n",
    "\n",
    "# Create training dataset\n",
    "train_ds = tf.data.Dataset.from_tensor_slices((train_paths, train_labels))\n",
    "train_ds = train_ds.map(\n",
    "    preprocess_image,\n",
    "    num_parallel_calls=tf.data.AUTOTUNE\n",
    ")\n",
    "train_ds = train_ds.batch(batch_size)\n",
    "train_ds = train_ds.prefetch(tf.data.AUTOTUNE)\n",
    "\n",
    "# Create validation dataset\n",
    "val_ds = tf.data.Dataset.from_tensor_slices((val_paths, val_labels))\n",
    "val_ds = val_ds.map(\n",
    "    preprocess_image,\n",
    "    num_parallel_calls=tf.data.AUTOTUNE\n",
    ")\n",
    "val_ds = val_ds.batch(batch_size)\n",
    "val_ds = val_ds.prefetch(tf.data.AUTOTUNE)\n",
    "\n",
    "# Create test dataset\n",
    "test_ds = tf.data.Dataset.from_tensor_slices((test_paths, test_labels))\n",
    "test_ds = test_ds.map(\n",
    "    preprocess_image,\n",
    "    num_parallel_calls=tf.data.AUTOTUNE\n",
    ")\n",
    "test_ds = test_ds.batch(batch_size)\n",
    "test_ds = test_ds.prefetch(tf.data.AUTOTUNE)\n"
   ]
  },
  {
   "cell_type": "code",
   "execution_count": 14,
   "metadata": {},
   "outputs": [],
   "source": [
    "model_tc_baseline = tf.keras.Sequential([\n",
    "    tf.keras.layers.InputLayer(input_shape=(img_height, img_width, 3)),\n",
    "    tf.keras.layers.Dense(20, activation='relu'),\n",
    "    tf.keras.layers.Flatten(),\n",
    "    tf.keras.layers.Dense(3, activation='softmax')  # 3 classes\n",
    "])\n",
    "\n",
    "# Compile the model\n",
    "model_tc_baseline.compile(\n",
    "    optimizer='adam',\n",
    "    loss='categorical_crossentropy',\n",
    "    metrics=['accuracy']\n",
    ")\n"
   ]
  },
  {
   "cell_type": "code",
   "execution_count": 15,
   "metadata": {},
   "outputs": [
    {
     "name": "stdout",
     "output_type": "stream",
     "text": [
      "Epoch 1/100\n",
      "25/25 [==============================] - 419s 17s/step - loss: 32.3067 - accuracy: 0.3583 - val_loss: 12.0570 - val_accuracy: 0.5213\n",
      "Epoch 2/100\n",
      "25/25 [==============================] - 461s 19s/step - loss: 7.6778 - accuracy: 0.4788 - val_loss: 3.5104 - val_accuracy: 0.3764\n",
      "Epoch 3/100\n",
      "25/25 [==============================] - 341s 14s/step - loss: 5.6977 - accuracy: 0.4213 - val_loss: 8.4246 - val_accuracy: 0.3678\n",
      "Epoch 4/100\n",
      " 1/25 [>.............................] - ETA: 0s - loss: 5.7194 - accuracy: 0.5000WARNING:tensorflow:Your input ran out of data; interrupting training. Make sure that your dataset or generator can generate at least `steps_per_epoch * epochs` batches (in this case, 2500 batches). You may need to use the repeat() function when building your dataset.\n",
      "25/25 [==============================] - 148s 6s/step - loss: 5.3971 - accuracy: 0.4010 - val_loss: 4.6263 - val_accuracy: 0.3752\n"
     ]
    }
   ],
   "source": [
    "\n",
    "# Calculate steps per epoch\n",
    "steps_per_epoch = len(train_paths) // batch_size\n",
    "\n",
    "# Train the model\n",
    "history_tc_baseline = model_tc_baseline.fit(\n",
    "    train_ds,\n",
    "    validation_data=val_ds,\n",
    "    epochs=epochs,\n",
    "    steps_per_epoch=25,\n",
    "    callbacks=[\n",
    "        tf.keras.callbacks.EarlyStopping(\n",
    "            monitor='val_loss',\n",
    "            mode='min',\n",
    "            verbose=1,\n",
    "            patience=4,\n",
    "            restore_best_weights=True\n",
    "        )\n",
    "    ]\n",
    ")"
   ]
  },
  {
   "cell_type": "code",
   "execution_count": 17,
   "metadata": {},
   "outputs": [
    {
     "data": {
      "image/png": "[encoded data removed]",
      "text/plain": [
       "<Figure size 576x576 with 2 Axes>"
      ]
     },
     "metadata": {
      "needs_background": "light"
     },
     "output_type": "display_data"
    }
   ],
   "source": [
    "# Get the number of epochs the model ran\n",
    "number_of_epochs_it_ran = len(history_tc_baseline .history['loss'])\n",
    "\n",
    "# Extract metrics from the history object\n",
    "acc = history_tc_baseline .history['accuracy']\n",
    "val_acc = history_tc_baseline .history['val_accuracy']\n",
    "loss = history_tc_baseline .history['loss']\n",
    "val_loss = history_tc_baseline .history['val_loss']\n",
    "\n",
    "# Create a range of epochs\n",
    "epochs_range = range(number_of_epochs_it_ran)\n",
    "\n",
    "# Plot Training and Validation Accuracy and Loss\n",
    "import matplotlib.pyplot as plt\n",
    "\n",
    "plt.figure(figsize=(8, 8))\n",
    "\n",
    "# Plot Training and Validation Accuracy\n",
    "plt.subplot(1, 2, 1)\n",
    "plt.plot(epochs_range, acc, label='Training Accuracy')\n",
    "plt.plot(epochs_range, val_acc, label='Validation Accuracy')\n",
    "plt.legend(loc='lower right')\n",
    "plt.title('Training and Validation Accuracy')\n",
    "\n",
    "# Plot Training and Validation Loss\n",
    "plt.subplot(1, 2, 2)\n",
    "plt.plot(epochs_range, loss, label='Training Loss')\n",
    "plt.plot(epochs_range, val_loss, label='Validation Loss')\n",
    "plt.legend(loc='upper right')\n",
    "plt.title('Training and Validation Loss')\n",
    "\n",
    "# Show the plots\n",
    "plt.show()\n"
   ]
  },
  {
   "cell_type": "code",
   "execution_count": 18,
   "metadata": {},
   "outputs": [
    {
     "data": {
      "text/plain": [
       "0.4101705253124237"
      ]
     },
     "execution_count": 18,
     "metadata": {},
     "output_type": "execute_result"
    }
   ],
   "source": [
    "mean_val_acc = sum(val_acc)/len(val_acc)\n",
    "mean_val_acc"
   ]
  },
  {
   "cell_type": "code",
   "execution_count": 22,
   "metadata": {},
   "outputs": [
    {
     "name": "stdout",
     "output_type": "stream",
     "text": [
      "Fri Dec 20 13:42:55 2024       \n",
      "+-----------------------------------------------------------------------------+\n",
      "| NVIDIA-SMI 470.182.03   Driver Version: 470.182.03   CUDA Version: 11.4     |\n",
      "|-------------------------------+----------------------+----------------------+\n",
      "| GPU  Name        Persistence-M| Bus-Id        Disp.A | Volatile Uncorr. ECC |\n",
      "| Fan  Temp  Perf  Pwr:Usage/Cap|         Memory-Usage | GPU-Util  Compute M. |\n",
      "|                               |                      |               MIG M. |\n",
      "|===============================+======================+======================|\n",
      "|   0  Tesla T4            Off  | 00000000:00:04.0 Off |                    0 |\n",
      "| N/A   64C    P0    30W /  70W |  14380MiB / 15109MiB |      0%      Default |\n",
      "|                               |                      |                  N/A |\n",
      "+-------------------------------+----------------------+----------------------+\n",
      "                                                                               \n",
      "+-----------------------------------------------------------------------------+\n",
      "| Processes:                                                                  |\n",
      "|  GPU   GI   CI        PID   Type   Process name                  GPU Memory |\n",
      "|        ID   ID                                                   Usage      |\n",
      "|=============================================================================|\n",
      "|    0   N/A  N/A      3546      C   ...m4040/envTF24/bin/python3    14377MiB |\n",
      "+-----------------------------------------------------------------------------+\n"
     ]
    }
   ],
   "source": [
    "!nvidia-smi"
   ]
  },
  {
   "cell_type": "code",
   "execution_count": 23,
   "metadata": {},
   "outputs": [
    {
     "data": {
      "text/plain": [
       "95"
      ]
     },
     "execution_count": 23,
     "metadata": {},
     "output_type": "execute_result"
    }
   ],
   "source": [
    "from tensorflow.keras import backend as K\n",
    "import gc\n",
    "\n",
    "K.clear_session()  # Clear TensorFlow session\n",
    "gc.collect()"
   ]
  },
  {
   "cell_type": "code",
   "execution_count": null,
   "metadata": {},
   "outputs": [],
   "source": [
    "!kill -9 3546"
   ]
  },
  {
   "cell_type": "markdown",
   "metadata": {
    "id": "WMtbH9KmdAEz"
   },
   "source": [
    "## Model: transfer Learning (MobileNet) + Data Augmentation\n"
   ]
  },
  {
   "cell_type": "code",
   "execution_count": 13,
   "metadata": {},
   "outputs": [],
   "source": [
    "import tensorflow as tf\n",
    "import tensorflow_addons as tfa\n",
    "\n",
    "# Define training parameters\n",
    "img_height = 224\n",
    "img_width = 224\n",
    "batch_size = 32\n",
    "\n",
    "# Split the dataset\n",
    "image_count = len(df)\n",
    "val_set_start = int(0.6 * image_count)  # 60% for training\n",
    "test_set_start = int(0.8 * image_count)  # 20% for validation, 20% for testing\n",
    "\n",
    "# Function for augmentation (training only)\n",
    "def augment_image(image):\n",
    "    # Random rotation\n",
    "    angle = tf.random.uniform([], -40 * 3.14159 / 180, 40 * 3.14159 / 180)\n",
    "    image = tfa.image.rotate(image, angle)\n",
    "    \n",
    "    # Random horizontal flip\n",
    "    image = tf.image.random_flip_left_right(image)\n",
    "    \n",
    "    # Random brightness and contrast\n",
    "    image = tf.image.random_brightness(image, 0.2)\n",
    "    image = tf.image.random_contrast(image, 0.8, 1.2)\n",
    "    \n",
    "    # Random zoom (cropping and resizing)\n",
    "    crop_size = tf.cast([img_height * 0.8, img_width * 0.8], tf.int32)\n",
    "    image = tf.image.random_crop(image, [crop_size[0], crop_size[1], 3])\n",
    "    image = tf.image.resize(image, [img_height, img_width])\n",
    "    \n",
    "    return image\n",
    "\n",
    "# Function to preprocess images (used for all datasets)\n",
    "def decode_and_preprocess(path, label, training=True):\n",
    "    # Read the file\n",
    "    file_bytes = tf.io.read_file(path)\n",
    "    # Decode the image\n",
    "    image = tf.io.decode_image(file_bytes, channels=3, expand_animations=False)\n",
    "    # Resize the image\n",
    "    image = tf.image.resize(image, [img_height, img_width])\n",
    "    # Normalize pixel values\n",
    "    image = image / 255.0\n",
    "    \n",
    "    # Apply augmentation only during training\n",
    "    if training:\n",
    "        image = augment_image(image)\n",
    "    \n",
    "    return image, label\n",
    "\n",
    "\n",
    "# With this\n",
    "def encode_emotion(emotion):\n",
    "    if emotion == 'positive':\n",
    "        return 2\n",
    "    elif emotion == 'negative':\n",
    "        return 1\n",
    "    else:  # mixed\n",
    "        return 0\n",
    "        \n",
    "labels = df['emotion'].map(encode_emotion).values\n",
    "paths = df['path'].values\n",
    "\n",
    "train_paths = paths[:val_set_start]\n",
    "train_labels = labels[:val_set_start]\n",
    "\n",
    "val_paths = paths[val_set_start:test_set_start]\n",
    "val_labels = labels[val_set_start:test_set_start]\n",
    "\n",
    "test_paths = paths[test_set_start:]\n",
    "test_labels = labels[test_set_start:]\n",
    "\n",
    "# Create the training dataset\n",
    "train_ds = tf.data.Dataset.from_tensor_slices((train_paths, train_labels))\n",
    "train_ds = train_ds.map(\n",
    "    lambda x, y: decode_and_preprocess(x, y, training=True),\n",
    "    num_parallel_calls=tf.data.AUTOTUNE\n",
    ")\n",
    "train_ds = train_ds.shuffle(1000).batch(batch_size).prefetch(tf.data.AUTOTUNE)\n",
    "\n",
    "# Create the validation dataset\n",
    "val_ds = tf.data.Dataset.from_tensor_slices((val_paths, val_labels))\n",
    "val_ds = val_ds.map(\n",
    "    lambda x, y: decode_and_preprocess(x, y, training=False),\n",
    "    num_parallel_calls=tf.data.AUTOTUNE\n",
    ")\n",
    "val_ds = val_ds.batch(batch_size).prefetch(tf.data.AUTOTUNE)\n",
    "\n",
    "# Create the test dataset\n",
    "test_ds = tf.data.Dataset.from_tensor_slices((test_paths, test_labels))\n",
    "test_ds = test_ds.map(\n",
    "    lambda x, y: decode_and_preprocess(x, y, training=False),\n",
    "    num_parallel_calls=tf.data.AUTOTUNE\n",
    ")\n",
    "test_ds = test_ds.batch(batch_size).prefetch(tf.data.AUTOTUNE)\n"
   ]
  },
  {
   "cell_type": "code",
   "execution_count": 17,
   "metadata": {
    "scrolled": false
   },
   "outputs": [
    {
     "name": "stdout",
     "output_type": "stream",
     "text": [
      "Epoch 1/100\n",
      "15/15 [==============================] - 842s 33s/step - loss: 0.8425 - accuracy: 0.5662 - val_loss: 0.6447 - val_accuracy: 0.6541\n",
      "Epoch 2/100\n",
      "15/15 [==============================] - 388s 28s/step - loss: 0.5977 - accuracy: 0.6890 - val_loss: 0.6602 - val_accuracy: 0.6541\n",
      "Epoch 3/100\n",
      "15/15 [==============================] - 359s 26s/step - loss: 0.5758 - accuracy: 0.6842 - val_loss: 0.5816 - val_accuracy: 0.7016\n",
      "Epoch 4/100\n",
      "15/15 [==============================] - 235s 17s/step - loss: 0.5491 - accuracy: 0.7150 - val_loss: 0.6119 - val_accuracy: 0.6955\n",
      "Epoch 5/100\n",
      "15/15 [==============================] - 265s 19s/step - loss: 0.5816 - accuracy: 0.7119 - val_loss: 0.6228 - val_accuracy: 0.6650\n",
      "Epoch 6/100\n",
      " 2/15 [===>..........................] - ETA: 5s - loss: 0.6978 - accuracy: 0.5511WARNING:tensorflow:Your input ran out of data; interrupting training. Make sure that your dataset or generator can generate at least `steps_per_epoch * epochs` batches (in this case, 1500 batches). You may need to use the repeat() function when building your dataset.\n",
      "15/15 [==============================] - 253s 18s/step - loss: 0.7293 - accuracy: 0.5412 - val_loss: 0.5879 - val_accuracy: 0.6979\n"
     ]
    }
   ],
   "source": [
    "# Define image dimensions to match MobileNetV2 preferred size\n",
    "img_height = 224\n",
    "img_width = 224\n",
    "batch_size = 32\n",
    "epochs = 100\n",
    "\n",
    "# Define MobileNetV2 model\n",
    "base_model = tf.keras.applications.MobileNetV2(\n",
    "    weights='imagenet',\n",
    "    include_top=False,\n",
    "    input_shape=(img_height, img_width, 3)\n",
    ")\n",
    "\n",
    "# Freeze the base model layers\n",
    "base_model.trainable = False\n",
    "\n",
    "# Build the complete model - keeping the exact same structure\n",
    "model_tc_mobilenet_aug_7 = tf.keras.Sequential([\n",
    "    base_model,\n",
    "    tf.keras.layers.GlobalAveragePooling2D(),\n",
    "    tf.keras.layers.Flatten(),\n",
    "    tf.keras.layers.Dense(512, activation='relu'),\n",
    "    tf.keras.layers.Dense(50, activation='relu'),\n",
    "    tf.keras.layers.Dense(3, activation='softmax')\n",
    "])\n",
    "\n",
    "# Compile the model\n",
    "model_tc_mobilenet_aug_7.compile(\n",
    "    optimizer='adam',\n",
    "    loss='categorical_crossentropy',\n",
    "    metrics=['accuracy']\n",
    ")\n",
    "\n",
    "# Ensure labels are one-hot encoded\n",
    "train_ds = train_ds.map(lambda x, y: (\n",
    "    x, \n",
    "    tf.one_hot(tf.cast(y, tf.int32), depth=3)\n",
    "))\n",
    "val_ds = val_ds.map(lambda x, y: (\n",
    "    x, \n",
    "    tf.one_hot(tf.cast(y, tf.int32), depth=3)\n",
    "))\n",
    "\n",
    "class_weights = {0: 1.,\n",
    "                1: 1.,\n",
    "                2: 2.}\n",
    "\n",
    "history_tc_mobilenet_aug_7 = model_tc_mobilenet_aug_7.fit(\n",
    "    train_ds,\n",
    "    validation_data=val_ds,\n",
    "    epochs=epochs,\n",
    "    steps_per_epoch=15,\n",
    "    callbacks=[\n",
    "        tf.keras.callbacks.EarlyStopping(\n",
    "            monitor='val_loss',\n",
    "            mode='min',\n",
    "            verbose=1,\n",
    "            patience=20,\n",
    "            restore_best_weights=True\n",
    "        )\n",
    "    ],\n",
    "    class_weight=class_weights\n",
    ")"
   ]
  },
  {
   "cell_type": "code",
   "execution_count": 18,
   "metadata": {
    "id": "8uoV88EzjYtZ"
   },
   "outputs": [
    {
     "data": {
      "image/png": "[encoded data removed]",
      "text/plain": [
       "<Figure size 576x576 with 2 Axes>"
      ]
     },
     "metadata": {
      "needs_background": "light"
     },
     "output_type": "display_data"
    }
   ],
   "source": [
    "number_of_epochs_it_ran_7 = len(history_tc_mobilenet_aug_7.history['loss'])\n",
    "\n",
    "acc_7 = history_tc_mobilenet_aug_7.history['accuracy']\n",
    "val_acc_7 = history_tc_mobilenet_aug_7.history['val_accuracy']\n",
    "\n",
    "loss_7 = history_tc_mobilenet_aug_7.history['loss']\n",
    "val_loss_7 = history_tc_mobilenet_aug_7.history['val_loss']\n",
    "\n",
    "epochs_range_7 = range(number_of_epochs_it_ran_7)\n",
    "\n",
    "plt.style.use(\"seaborn-muted\")\n",
    "acc_plot_7 = plt.figure(figsize=(8, 8))\n",
    "plt.subplot(1, 2, 1)\n",
    "plt.plot(epochs_range_7, acc_7, label='Training Accuracy')\n",
    "plt.plot(epochs_range_7, val_acc_7, label='Validation Accuracy')\n",
    "plt.legend(loc='lower right')\n",
    "plt.title('Training and Validation Accuracy')\n",
    "\n",
    "plt.subplot(1, 2, 2)\n",
    "plt.plot(epochs_range_7, loss_7, label='Training Loss')\n",
    "plt.plot(epochs_range_7, val_loss_7, label='Validation Loss')\n",
    "plt.legend(loc='upper right')\n",
    "plt.title('Training and Validation Loss')\n",
    "\n",
    "acc_plot_7.suptitle('Three - Class Model', fontsize=16)\n",
    "acc_plot_7.show()"
   ]
  },
  {
   "cell_type": "code",
   "execution_count": 19,
   "metadata": {
    "id": "TROFaJAUjcAO"
   },
   "outputs": [
    {
     "data": {
      "text/plain": [
       "0.6559193134307861"
      ]
     },
     "execution_count": 19,
     "metadata": {},
     "output_type": "execute_result"
    }
   ],
   "source": [
    "mean_acc_7 = sum(acc_7)/len(acc_7)\n",
    "mean_acc_7"
   ]
  },
  {
   "cell_type": "code",
   "execution_count": 20,
   "metadata": {
    "id": "oyr5wZE3jdVq"
   },
   "outputs": [
    {
     "data": {
      "text/plain": [
       "0.6780349214871725"
      ]
     },
     "execution_count": 20,
     "metadata": {},
     "output_type": "execute_result"
    }
   ],
   "source": [
    "mean_val_acc_7 = sum(val_acc_7)/len(val_acc_7)\n",
    "mean_val_acc_7"
   ]
  },
  {
   "cell_type": "markdown",
   "metadata": {},
   "source": [
    "## Prediction & Evaluations"
   ]
  },
  {
   "cell_type": "code",
   "execution_count": 22,
   "metadata": {},
   "outputs": [],
   "source": [
    "# import libraries for prediction/ evaluation & visualization\n",
    "from sklearn.metrics import confusion_matrix, classification_report\n",
    "from sklearn.metrics import precision_score, recall_score, accuracy_score, precision_recall_curve, roc_curve, roc_auc_score, f1_score\n",
    "\n",
    "import seaborn as sns\n",
    "import matplotlib.pyplot as plt\n",
    "\n",
    "from tensorflow import expand_dims\n",
    "from tensorflow.keras.models import load_model"
   ]
  },
  {
   "cell_type": "code",
   "execution_count": 23,
   "metadata": {},
   "outputs": [],
   "source": [
    "test_images = test_ds.map(lambda x, y: x)\n",
    "\n",
    "# Predict using the model\n",
    "predictions = model_tc_mobilenet_aug_7.predict(test_images)"
   ]
  },
  {
   "cell_type": "code",
   "execution_count": 24,
   "metadata": {},
   "outputs": [
    {
     "data": {
      "image/png": "[encoded data removed]",
      "text/plain": [
       "<Figure size 576x432 with 2 Axes>"
      ]
     },
     "metadata": {
      "needs_background": "light"
     },
     "output_type": "display_data"
    },
    {
     "name": "stdout",
     "output_type": "stream",
     "text": [
      "\n",
      "Classification Report:\n",
      "              precision    recall  f1-score   support\n",
      "\n",
      "       mixed       0.80      0.67      0.73       432\n",
      "    negative       0.69      0.82      0.75       389\n",
      "    positive       0.00      0.00      0.00         0\n",
      "\n",
      "   micro avg       0.74      0.74      0.74       821\n",
      "   macro avg       0.50      0.50      0.49       821\n",
      "weighted avg       0.75      0.74      0.74       821\n",
      "\n",
      "\n",
      "Prediction distribution:\n",
      "{'mixed': 361, 'negative': 460}\n",
      "\n",
      "Prediction Confidence:\n",
      "Average confidence: 0.7216\n",
      "Min confidence: 0.5003\n",
      "Max confidence: 0.9908\n"
     ]
    },
    {
     "name": "stderr",
     "output_type": "stream",
     "text": [
      "/home/ecbm4040/envTF24/lib/python3.6/site-packages/sklearn/metrics/_classification.py:1248: UndefinedMetricWarning: Precision and F-score are ill-defined and being set to 0.0 in labels with no predicted samples. Use `zero_division` parameter to control this behavior.\n",
      "  _warn_prf(average, modifier, msg_start, len(result))\n",
      "/home/ecbm4040/envTF24/lib/python3.6/site-packages/sklearn/metrics/_classification.py:1248: UndefinedMetricWarning: Recall and F-score are ill-defined and being set to 0.0 in labels with no true samples. Use `zero_division` parameter to control this behavior.\n",
      "  _warn_prf(average, modifier, msg_start, len(result))\n",
      "/home/ecbm4040/envTF24/lib/python3.6/site-packages/sklearn/metrics/_classification.py:1248: UndefinedMetricWarning: Precision and F-score are ill-defined and being set to 0.0 in labels with no predicted samples. Use `zero_division` parameter to control this behavior.\n",
      "  _warn_prf(average, modifier, msg_start, len(result))\n",
      "/home/ecbm4040/envTF24/lib/python3.6/site-packages/sklearn/metrics/_classification.py:1248: UndefinedMetricWarning: Recall and F-score are ill-defined and being set to 0.0 in labels with no true samples. Use `zero_division` parameter to control this behavior.\n",
      "  _warn_prf(average, modifier, msg_start, len(result))\n",
      "/home/ecbm4040/envTF24/lib/python3.6/site-packages/sklearn/metrics/_classification.py:1248: UndefinedMetricWarning: Precision and F-score are ill-defined and being set to 0.0 in labels with no predicted samples. Use `zero_division` parameter to control this behavior.\n",
      "  _warn_prf(average, modifier, msg_start, len(result))\n",
      "/home/ecbm4040/envTF24/lib/python3.6/site-packages/sklearn/metrics/_classification.py:1248: UndefinedMetricWarning: Recall and F-score are ill-defined and being set to 0.0 in labels with no true samples. Use `zero_division` parameter to control this behavior.\n",
      "  _warn_prf(average, modifier, msg_start, len(result))\n"
     ]
    }
   ],
   "source": [
    "# Map predictions to class indices\n",
    "predicted_class_indices = np.argmax(predictions, axis=1)\n",
    "\n",
    "# Define class names with all three classes\n",
    "class_names = {0: 'mixed', 1: 'negative', 2: 'positive'}\n",
    "\n",
    "# Convert predicted indices to emotion labels\n",
    "predicted_emotions = [class_names[idx] for idx in predicted_class_indices]\n",
    "\n",
    "# Get ground truth labels\n",
    "y_ground_truth = np.concatenate([y for x, y in test_ds], axis=0)\n",
    "# If labels are one-hot encoded, convert to class indices\n",
    "if len(y_ground_truth.shape) > 1:\n",
    "    y_ground_truth = np.argmax(y_ground_truth, axis=1)\n",
    "\n",
    "# Create confusion matrix\n",
    "confusion = confusion_matrix(y_ground_truth, predicted_class_indices)\n",
    "\n",
    "# Plot confusion matrix\n",
    "plt.figure(figsize=(8, 6))\n",
    "sns.heatmap(confusion, \n",
    "            annot=True, \n",
    "            fmt='d',\n",
    "            cmap='Blues',\n",
    "            xticklabels=list(class_names.values()),\n",
    "            yticklabels=list(class_names.values()))\n",
    "plt.xlabel(\"Predicted Emotion\")\n",
    "plt.ylabel(\"Actual Emotion\")\n",
    "plt.title(\"Confusion Matrix\")\n",
    "plt.show()\n",
    "\n",
    "# Print classification report\n",
    "print(\"\\nClassification Report:\")\n",
    "print(classification_report(\n",
    "    y_ground_truth,\n",
    "    predicted_class_indices,\n",
    "    labels=[0, 1, 2],\n",
    "    target_names=list(class_names.values())\n",
    "))\n",
    "\n",
    "# Print distribution of predictions\n",
    "print(\"\\nPrediction distribution:\")\n",
    "unique, counts = np.unique(predicted_class_indices, return_counts=True)\n",
    "print(dict(zip([class_names[c] for c in unique], counts)))\n",
    "\n",
    "# Print model confidence\n",
    "prediction_confidence = np.max(predictions, axis=1)\n",
    "print(\"\\nPrediction Confidence:\")\n",
    "print(f\"Average confidence: {np.mean(prediction_confidence):.4f}\")\n",
    "print(f\"Min confidence: {np.min(prediction_confidence):.4f}\")\n",
    "print(f\"Max confidence: {np.max(prediction_confidence):.4f}\")"
   ]
  },
  {
   "cell_type": "code",
   "execution_count": null,
   "metadata": {},
   "outputs": [],
   "source": []
  }
 ],
 "metadata": {
  "accelerator": "GPU",
  "colab": {
   "gpuType": "A100",
   "machine_shape": "hm",
   "provenance": []
  },
  "kernelspec": {
   "display_name": "Python 3",
   "language": "python",
   "name": "python3"
  },
  "language_info": {
   "codemirror_mode": {
    "name": "ipython",
    "version": 3
   },
   "file_extension": ".py",
   "mimetype": "text/x-python",
   "name": "python",
   "nbconvert_exporter": "python",
   "pygments_lexer": "ipython3",
   "version": "3.6.9"
  }
 },
 "nbformat": 4,
 "nbformat_minor": 1
}
